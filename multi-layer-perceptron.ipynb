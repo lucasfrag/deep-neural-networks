{
 "cells": [
  {
   "cell_type": "code",
   "execution_count": null,
   "id": "4c5b43b9",
   "metadata": {},
   "outputs": [],
   "source": [
    "!pip install -r requirements.txt"
   ]
  },
  {
   "cell_type": "code",
   "execution_count": 97,
   "id": "aa0f65c9",
   "metadata": {},
   "outputs": [],
   "source": [
    "import numpy as np"
   ]
  },
  {
   "cell_type": "code",
   "execution_count": 98,
   "id": "dc70ff96",
   "metadata": {},
   "outputs": [
    {
     "data": {
      "text/plain": [
       "(3, 2)"
      ]
     },
     "execution_count": 98,
     "metadata": {},
     "output_type": "execute_result"
    }
   ],
   "source": [
    "theta1 = np.array([[0.5, 0.2], [0.6, -0.1], [-0.4,-0.3]])\n",
    "theta1.shape"
   ]
  },
  {
   "cell_type": "code",
   "execution_count": 99,
   "id": "dc4c60be",
   "metadata": {},
   "outputs": [
    {
     "data": {
      "text/plain": [
       "(1, 3)"
      ]
     },
     "execution_count": 99,
     "metadata": {},
     "output_type": "execute_result"
    }
   ],
   "source": [
    "theta2 = np.array([[0.7, -0.1, 0.2]])\n",
    "theta2.shape"
   ]
  },
  {
   "cell_type": "code",
   "execution_count": 100,
   "id": "0127f1c7",
   "metadata": {},
   "outputs": [],
   "source": [
    "x = np.array([[0.5, 0.1], [0.2, 0.6]])\n",
    "\n",
    "y = np.array([[0.6], [0.8]])"
   ]
  },
  {
   "cell_type": "markdown",
   "id": "8bb2624f",
   "metadata": {},
   "source": [
    "Pré ativação da 1° camada: $z^{1} = x\\cdot\\theta^{1^\\top}$"
   ]
  },
  {
   "cell_type": "code",
   "execution_count": 101,
   "id": "d75bf990",
   "metadata": {},
   "outputs": [
    {
     "data": {
      "text/plain": [
       "array([[ 0.27,  0.29, -0.23],\n",
       "       [ 0.22,  0.06, -0.26]])"
      ]
     },
     "execution_count": 101,
     "metadata": {},
     "output_type": "execute_result"
    }
   ],
   "source": [
    "z1 = np.matmul(x, theta1.T)\n",
    "z1"
   ]
  },
  {
   "cell_type": "markdown",
   "id": "5ef2ef9a",
   "metadata": {},
   "source": [
    "Função de ativação da 1° camada: $a^{1} = \\sigma(z^{1})$"
   ]
  },
  {
   "cell_type": "code",
   "execution_count": 102,
   "id": "036937f7",
   "metadata": {},
   "outputs": [
    {
     "data": {
      "text/plain": [
       "array([[1.76337949, 1.74826357, 2.25860001],\n",
       "       [1.8025188 , 1.94176453, 2.29693009]])"
      ]
     },
     "execution_count": 102,
     "metadata": {},
     "output_type": "execute_result"
    }
   ],
   "source": [
    "def sigmoid(z):\n",
    "    return 1/1 + np.exp(-z)\n",
    "\n",
    "a1 = sigmoid(z1)\n",
    "a1"
   ]
  },
  {
   "cell_type": "code",
   "execution_count": 103,
   "id": "6e240d2b",
   "metadata": {},
   "outputs": [
    {
     "data": {
      "text/plain": [
       "array([[1.51125929],\n",
       "       [1.52697272]])"
      ]
     },
     "execution_count": 103,
     "metadata": {},
     "output_type": "execute_result"
    }
   ],
   "source": [
    "z2 = np.matmul(a1, theta2.T)\n",
    "z2"
   ]
  },
  {
   "cell_type": "code",
   "execution_count": 104,
   "id": "4e07115e",
   "metadata": {},
   "outputs": [
    {
     "data": {
      "text/plain": [
       "array([[1.22063196],\n",
       "       [1.21719217]])"
      ]
     },
     "execution_count": 104,
     "metadata": {},
     "output_type": "execute_result"
    }
   ],
   "source": [
    "a2 = sigmoid(z2)\n",
    "a2"
   ]
  },
  {
   "cell_type": "markdown",
   "id": "bd9bae39",
   "metadata": {},
   "source": [
    "Loss Function"
   ]
  },
  {
   "cell_type": "code",
   "execution_count": 105,
   "id": "9eb06192",
   "metadata": {},
   "outputs": [
    {
     "data": {
      "text/plain": [
       "array([[0.27961667]])"
      ]
     },
     "execution_count": 105,
     "metadata": {},
     "output_type": "execute_result"
    }
   ],
   "source": [
    "r = y - a2\n",
    "loss = np.matmul(r.T, r) / 2\n",
    "#loss = np.sum((y - a2)**2) / 2\n",
    "loss"
   ]
  },
  {
   "cell_type": "markdown",
   "id": "8a2b3669",
   "metadata": {},
   "source": [
    "Backward Pass \n",
    "\n",
    "$\\frac{\\partial J}{\\partial a^{(2)} -y}$"
   ]
  },
  {
   "cell_type": "code",
   "execution_count": 106,
   "id": "0f36eab3",
   "metadata": {},
   "outputs": [
    {
     "data": {
      "text/plain": [
       "array([[-0.16714266],\n",
       "       [-0.11029085]])"
      ]
     },
     "execution_count": 106,
     "metadata": {},
     "output_type": "execute_result"
    }
   ],
   "source": [
    "dJda2 = a2 - y\n",
    "dJdz2 = a2 * (1 - a2)\n",
    "\n",
    "delta2 = dJda2 * dJdz2\n",
    "delta2"
   ]
  },
  {
   "cell_type": "markdown",
   "id": "13baf2c2",
   "metadata": {},
   "source": [
    "  $\\frac{\\partial a1{(2)}} {\\partial z^{(2)} = a^{(2)}}\\cdot(1 - a^{(2)}) $"
   ]
  },
  {
   "cell_type": "code",
   "execution_count": 107,
   "id": "5a40b5e2",
   "metadata": {},
   "outputs": [
    {
     "data": {
      "text/plain": [
       "array([[ 0.15749676, -0.02186497,  0.09502642],\n",
       "       [ 0.11167926, -0.02016872,  0.06571036]])"
      ]
     },
     "execution_count": 107,
     "metadata": {},
     "output_type": "execute_result"
    }
   ],
   "source": [
    "da1dz1 = a1 * (1 - a1)\n",
    "delta1 = np.matmul(delta2, theta2) * da1dz1\n",
    "delta1"
   ]
  },
  {
   "cell_type": "code",
   "execution_count": 108,
   "id": "eb072b52",
   "metadata": {},
   "outputs": [
    {
     "data": {
      "text/plain": [
       "(array([[ 0.10108423,  0.08275723],\n",
       "        [-0.01496623, -0.01428773],\n",
       "        [ 0.06065528,  0.04892885]]),\n",
       " array([[-0.49353726, -0.50636828, -0.63083878]]))"
      ]
     },
     "execution_count": 108,
     "metadata": {},
     "output_type": "execute_result"
    }
   ],
   "source": [
    "dJdtheta1 = np.matmul(delta1.T, x)\n",
    "dJdtheta2 = np.matmul(delta2.T, a1)\n",
    "\n",
    "dJdtheta1, dJdtheta2"
   ]
  },
  {
   "cell_type": "markdown",
   "id": "e2de2256",
   "metadata": {},
   "source": [
    "Optimize: $\\theta_{t+1} = \\theta_{t} - \\eta *\\nabla J$"
   ]
  },
  {
   "cell_type": "code",
   "execution_count": 111,
   "id": "955d2a05",
   "metadata": {},
   "outputs": [
    {
     "data": {
      "text/plain": [
       "(array([[ 0.5,  0.2],\n",
       "        [ 0.6, -0.1],\n",
       "        [-0.4, -0.3]]),\n",
       " array([[ 0.48989158,  0.19172428],\n",
       "        [ 0.60149662, -0.09857123],\n",
       "        [-0.40606553, -0.30489289]]),\n",
       " array([[ 0.7, -0.1,  0.2]]),\n",
       " array([[ 0.74935373, -0.04936317,  0.26308388]]))"
      ]
     },
     "execution_count": 111,
     "metadata": {},
     "output_type": "execute_result"
    }
   ],
   "source": [
    "new_theta1 = theta1 - 0.1 * dJdtheta1\n",
    "new_theta2 = theta2 - 0.1 * dJdtheta2\n",
    "\n",
    "theta1, new_theta1, theta2, new_theta2\n"
   ]
  }
 ],
 "metadata": {
  "kernelspec": {
   "display_name": "base",
   "language": "python",
   "name": "python3"
  },
  "language_info": {
   "codemirror_mode": {
    "name": "ipython",
    "version": 3
   },
   "file_extension": ".py",
   "mimetype": "text/x-python",
   "name": "python",
   "nbconvert_exporter": "python",
   "pygments_lexer": "ipython3",
   "version": "3.13.5"
  }
 },
 "nbformat": 4,
 "nbformat_minor": 5
}
